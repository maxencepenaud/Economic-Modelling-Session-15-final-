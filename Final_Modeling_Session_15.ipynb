{
  "nbformat": 4,
  "nbformat_minor": 0,
  "metadata": {
    "colab": {
      "provenance": [],
      "authorship_tag": "ABX9TyNc7B1RcxuUtGX1IyxOJDmQ",
      "include_colab_link": true
    },
    "kernelspec": {
      "name": "python3",
      "display_name": "Python 3"
    },
    "language_info": {
      "name": "python"
    }
  },
  "cells": [
    {
      "cell_type": "markdown",
      "metadata": {
        "id": "view-in-github",
        "colab_type": "text"
      },
      "source": [
        "<a href=\"https://colab.research.google.com/github/maxencepenaud/Economic-Modelling-Session-15-final-/blob/main/Final_Modeling_Session_15.ipynb\" target=\"_parent\"><img src=\"https://colab.research.google.com/assets/colab-badge.svg\" alt=\"Open In Colab\"/></a>"
      ]
    },
    {
      "cell_type": "code",
      "execution_count": null,
      "metadata": {
        "colab": {
          "base_uri": "https://localhost:8080/",
          "height": 299
        },
        "id": "N2EX7KcFDch-",
        "outputId": "e3c9a5d8-1807-4c53-e31a-cdb6fc1aec80"
      },
      "outputs": [
        {
          "output_type": "display_data",
          "data": {
            "text/plain": [
              "<IPython.core.display.Markdown object>"
            ],
            "text/markdown": "**Your hand:** [10, 6] (Value: 16)"
          },
          "metadata": {}
        },
        {
          "output_type": "display_data",
          "data": {
            "text/plain": [
              "<IPython.core.display.Markdown object>"
            ],
            "text/markdown": "**Dealer's face-up card:** 10"
          },
          "metadata": {}
        },
        {
          "output_type": "display_data",
          "data": {
            "text/plain": [
              "<IPython.core.display.Markdown object>"
            ],
            "text/markdown": "**Probabilities** - Win: `0.30`, Lose: `0.70`, Tie: `0.00`"
          },
          "metadata": {}
        },
        {
          "output_type": "display_data",
          "data": {
            "text/plain": [
              "<IPython.core.display.Markdown object>"
            ],
            "text/markdown": "**Tip:** Caution advised, consider staying."
          },
          "metadata": {}
        },
        {
          "name": "stdout",
          "output_type": "stream",
          "text": [
            "Do you want to hit or stay? (hit/stay): hit\n"
          ]
        },
        {
          "output_type": "display_data",
          "data": {
            "text/plain": [
              "<IPython.core.display.Markdown object>"
            ],
            "text/markdown": "**Updated Probabilities** after hit - Win: `1.00`, Lose: `0.00`, Tie: `0.00`"
          },
          "metadata": {}
        },
        {
          "output_type": "display_data",
          "data": {
            "text/plain": [
              "<IPython.core.display.Markdown object>"
            ],
            "text/markdown": "**Your hand:** [10, 6, 5] (Value: 21)"
          },
          "metadata": {}
        },
        {
          "output_type": "display_data",
          "data": {
            "text/plain": [
              "<IPython.core.display.Markdown object>"
            ],
            "text/markdown": "**Dealer's face-up card:** 10"
          },
          "metadata": {}
        },
        {
          "output_type": "display_data",
          "data": {
            "text/plain": [
              "<IPython.core.display.Markdown object>"
            ],
            "text/markdown": "**Probabilities** - Win: `1.00`, Lose: `0.00`, Tie: `0.00`"
          },
          "metadata": {}
        },
        {
          "output_type": "display_data",
          "data": {
            "text/plain": [
              "<IPython.core.display.Markdown object>"
            ],
            "text/markdown": "**Tip:** Consider taking a risk!"
          },
          "metadata": {}
        },
        {
          "output_type": "display_data",
          "data": {
            "text/plain": [
              "<IPython.core.display.Markdown object>"
            ],
            "text/markdown": "**Dealer's hand:** [10, 2, 10] (Value: 22)"
          },
          "metadata": {}
        },
        {
          "output_type": "display_data",
          "data": {
            "text/plain": [
              "<IPython.core.display.Markdown object>"
            ],
            "text/markdown": "**You win!**"
          },
          "metadata": {}
        }
      ],
      "source": [
        "import pandas as pd\n",
        "import numpy as np\n",
        "from sklearn.model_selection import train_test_split\n",
        "from sklearn.ensemble import RandomForestClassifier\n",
        "from sklearn.metrics import confusion_matrix, accuracy_score, precision_score, recall_score, f1_score\n",
        "from sklearn.calibration import CalibratedClassifierCV\n",
        "import matplotlib.pyplot as plt\n",
        "import seaborn as sns\n",
        "from IPython.display import display, Markdown, HTML\n",
        "\n",
        "# This function simulates drawing a card from a deck: It randomly selects a card from a standard deck of cards. Face cards (Jack, Queen, King) are valued at 10 and Aces are valued at 11 for simplicity. Number cards are returned as their integer values.\n",
        "def draw_card():\n",
        "    card = np.random.choice(['2', '3', '4', '5', '6', '7', '8', '9', '10', 'J', 'Q', 'K', 'A'])\n",
        "    if card in ['J', 'Q', 'K']:\n",
        "        return 10\n",
        "    elif card == 'A':\n",
        "        return 11  # Simplification for this example\n",
        "    else:\n",
        "        return int(card)\n",
        "\n",
        "# Function to calculate the best hand value (considering Aces as 1 or 11).This function calculates the best possible hand value: If the total value exceeds 21 and there are Aces we deduct 10 and aces become 1.\n",
        "def hand_value(hand):\n",
        "    value = sum(hand)\n",
        "    num_aces = hand.count(11)\n",
        "    while value > 21 and num_aces:\n",
        "        value -= 10\n",
        "        num_aces -= 1\n",
        "    return value\n",
        "\n",
        "# Simulate a Blackjack game dataset: This function simulates Blackjack games to create a dataset. It initializes an empty list, then for each game, draws two cards for the player and dealer, calculates their hand values, and checks for an immediate win or tie if there's a Blackjack. If not, the player may draw more cards with a 50% chance, and the dealer draws until their hand value is at least 17. The game result (win, lose, tie) is recorded along with the player’s and dealer’s hand values and the player's card count. The data is returned as a DataFrame.\n",
        "def simulate_blackjack_games(num_games=100):\n",
        "    data = []\n",
        "    for _ in range(num_games):\n",
        "        player_hand = [draw_card(), draw_card()]\n",
        "        dealer_hand = [draw_card(), draw_card()]\n",
        "\n",
        "        player_value = hand_value(player_hand)\n",
        "        dealer_value = hand_value(dealer_hand)\n",
        "\n",
        "        if player_value == 21:\n",
        "            result = 'win' if dealer_value != 21 else 'tie'\n",
        "        elif dealer_value == 21:\n",
        "            result = 'lose'\n",
        "        else:\n",
        "            while player_value < 21 and np.random.rand() > 0.5:  # Random hit/stay\n",
        "                player_hand.append(draw_card())\n",
        "                player_value = hand_value(player_hand)\n",
        "\n",
        "            while dealer_value < 17:\n",
        "                dealer_hand.append(draw_card())\n",
        "                dealer_value = hand_value(dealer_hand)\n",
        "\n",
        "            if player_value > 21:\n",
        "                result = 'lose'\n",
        "            elif dealer_value > 21 or player_value > dealer_value:\n",
        "                result = 'win'\n",
        "            elif player_value < dealer_value:\n",
        "                result = 'lose'\n",
        "            else:\n",
        "                result = 'tie'\n",
        "\n",
        "        data.append({\n",
        "            'player_value': player_value,\n",
        "            'dealer_value': dealer_value,\n",
        "            'player_card_count': len(player_hand),  # New feature\n",
        "            'result': result\n",
        "        })\n",
        "\n",
        "    return pd.DataFrame(data)\n",
        "\n",
        "# Generate the dataset\n",
        "blackjack_data = simulate_blackjack_games(100)\n",
        "\n",
        "# Encode the target variable\n",
        "blackjack_data['result'] = blackjack_data['result'].map({'win': 1, 'lose': -1, 'tie': 0})\n",
        "\n",
        "# Separate features (X) and target variable (y)\n",
        "X = blackjack_data[['player_value', 'dealer_value', 'player_card_count']]  # Updated features\n",
        "y = blackjack_data['result']\n",
        "\n",
        "# Split the dataset into training and testing sets\n",
        "X_train, X_test, y_train, y_test = train_test_split(X, y, test_size=0.2, random_state=42)\n",
        "\n",
        "# Instantiate and train the RandomForest model\n",
        "rf_model = RandomForestClassifier(random_state=42)\n",
        "rf_model.fit(X_train, y_train)\n",
        "\n",
        "# Calibrate probabilities using Isotonic Regression\n",
        "calibrated_rf = CalibratedClassifierCV(estimator=rf_model, method='isotonic', cv='prefit')  # Updated to 'estimator'\n",
        "calibrated_rf.fit(X_test, y_test)  # Use the test set for calibration\n",
        "\n",
        "# Make predictions on the testing set using calibrated model\n",
        "y_pred = calibrated_rf.predict(X_test)\n",
        "\n",
        "# Evaluate the model performance\n",
        "cm = confusion_matrix(y_test, y_pred)\n",
        "accuracy = accuracy_score(y_test, y_pred)\n",
        "precision = precision_score(y_test, y_pred, average='weighted')\n",
        "recall = recall_score(y_test, y_pred, average='weighted')\n",
        "f1 = f1_score(y_test, y_pred, average='weighted')\n",
        "\n",
        "# Function to plot the confusion matrix\n",
        "def plot_confusion_matrix(cm):\n",
        "    plt.figure(figsize=(8, 6))\n",
        "    sns.heatmap(cm, annot=True, fmt=\"d\", cmap=\"Blues\", cbar=False,\n",
        "                xticklabels=['Lose', 'Tie', 'Win'], yticklabels=['Lose', 'Tie', 'Win'])\n",
        "    plt.xlabel('Predicted labels')\n",
        "    plt.ylabel('True labels')\n",
        "    plt.title('Confusion Matrix')\n",
        "    plt.show()\n",
        "\n",
        "# Function to display outputs using Markdown for better formatting\n",
        "def display_markdown(text):\n",
        "    display(Markdown(text))\n",
        "\n",
        "# Function to predict probabilities using calibrated model\n",
        "def predict_probabilities(player_value, dealer_value, player_card_count):\n",
        "    features = pd.DataFrame({\n",
        "        'player_value': [player_value],\n",
        "        'dealer_value': [dealer_value],\n",
        "        'player_card_count': [player_card_count]\n",
        "    })\n",
        "    probs = calibrated_rf.predict_proba(features)[0]\n",
        "    return {'lose': probs[0], 'tie': probs[1], 'win': probs[2]}\n",
        "\n",
        "# Function to play the game interactively with enhanced stats\n",
        "def play_blackjack():\n",
        "    player_hand = [draw_card(), draw_card()]\n",
        "    dealer_hand = [draw_card(), draw_card()]\n",
        "\n",
        "    while True:\n",
        "        player_value = hand_value(player_hand)\n",
        "        dealer_value = hand_value(dealer_hand)\n",
        "        player_card_count = len(player_hand)\n",
        "\n",
        "        display_markdown(f\"**Your hand:** {player_hand} (Value: {player_value})\")\n",
        "        display_markdown(f\"**Dealer's face-up card:** {dealer_hand[0]}\")\n",
        "\n",
        "        probabilities = predict_probabilities(player_value, dealer_value, player_card_count)\n",
        "        display_markdown(f\"**Probabilities** - Win: `{probabilities['win']:.2f}`, Lose: `{probabilities['lose']:.2f}`, Tie: `{probabilities['tie']:.2f}`\")\n",
        "\n",
        "        # Suggest action based on probabilities\n",
        "        if probabilities['win'] > probabilities['lose'] and probabilities['win'] > probabilities['tie']:\n",
        "            display_markdown(\"**Tip:** Consider taking a risk!\")\n",
        "        elif probabilities['tie'] > probabilities['lose']:\n",
        "            display_markdown(\"**Tip:** Playing safe could be beneficial.\")\n",
        "        else:\n",
        "            display_markdown(\"**Tip:** Caution advised, consider staying.\")\n",
        "\n",
        "        if player_value >= 21:\n",
        "            break\n",
        "\n",
        "        choice = input(\"Do you want to hit or stay? (hit/stay): \").strip().lower()\n",
        "\n",
        "        if choice == 'hit':\n",
        "            player_hand.append(draw_card())\n",
        "            player_value = hand_value(player_hand)\n",
        "            player_card_count = len(player_hand)\n",
        "            if player_value > 21:\n",
        "                display_markdown(f\"**You busted with a hand value of {player_value}. You lose!**\")\n",
        "                return\n",
        "            # Update probabilities after the hit\n",
        "            probabilities = predict_probabilities(player_value, dealer_value, player_card_count)\n",
        "            display_markdown(f\"**Updated Probabilities** after hit - Win: `{probabilities['win']:.2f}`, Lose: `{probabilities['lose']:.2f}`, Tie: `{probabilities['tie']:.2f}`\")\n",
        "        elif choice == 'stay':\n",
        "            break\n",
        "\n",
        "    while dealer_value < 17:\n",
        "        dealer_hand.append(draw_card())\n",
        "        dealer_value = hand_value(dealer_hand)\n",
        "\n",
        "    display_markdown(f\"**Dealer's hand:** {dealer_hand} (Value: {dealer_value})\")\n",
        "\n",
        "    if dealer_value > 21 or player_value > dealer_value:\n",
        "        display_markdown(\"**You win!**\")\n",
        "    elif player_value < dealer_value:\n",
        "        display_markdown(\"**You lose!**\")\n",
        "    else:\n",
        "        display_markdown(\"**It's a tie!**\")\n",
        "\n",
        "# Example usage\n",
        "play_blackjack()"
      ]
    }
  ]
}